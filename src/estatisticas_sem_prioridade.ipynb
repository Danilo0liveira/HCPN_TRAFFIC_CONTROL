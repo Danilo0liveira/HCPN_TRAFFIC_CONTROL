{
 "cells": [
  {
   "cell_type": "code",
   "execution_count": 587,
   "id": "a41d90d5",
   "metadata": {},
   "outputs": [],
   "source": [
    "import pandas as pd\n",
    "import numpy as np\n",
    "import matplotlib.pyplot as plt"
   ]
  },
  {
   "cell_type": "markdown",
   "id": "05f47945",
   "metadata": {},
   "source": [
    "# TEMPO MÉDIO DE ESPERA SEMÁFORO"
   ]
  },
  {
   "cell_type": "code",
   "execution_count": 588,
   "id": "fced340a",
   "metadata": {},
   "outputs": [],
   "source": [
    "\n",
    "TIME_OUT_CAR = 2\n",
    "TIME_OUT_BUS = 5\n",
    "\n",
    "# tempo médio no norte\n",
    "\n",
    "norte_data_carro_in = pd.read_csv(\"Count_trans_occur_Fila_N'trans_monitor_carro_1.log\", sep=r'\\s+')\n",
    "norte_data_carro_out = pd.read_csv(\"Count_trans_occur_Fila_N'Partida_Carro_1.log\", sep=r'\\s+')+TIME_OUT_CAR\n",
    "norte_data_onibus_in = pd.read_csv(\"Count_trans_occur_Fila_N'trans_monitor_onibus_1.log\", sep=r'\\s+')\n",
    "norte_data_onibus_out = pd.read_csv(\"Count_trans_occur_Fila_N'Partida_Oni_1.log\", sep=r'\\s+')+TIME_OUT_BUS\n",
    "\n",
    "dif_carro_n = norte_data_carro_out['time'] - norte_data_carro_in['time'][:norte_data_carro_out['time'].size]\n",
    "dif_onibus_n = norte_data_onibus_out['time'] - norte_data_onibus_in['time'][:norte_data_onibus_out['time'].size]\n",
    "norte_tmp_med_carro = np.mean(dif_carro_n)\n",
    "norte_tmp_med_onibus = np.mean(dif_onibus_n)\n",
    "\n",
    "# tempo médio no sul \n",
    "\n",
    "sul_data_carro_in = pd.read_csv(\"Count_trans_occur_Fila_S'trans_monitor_carro_1.log\", sep=r'\\s+')\n",
    "sul_data_carro_out = pd.read_csv(\"Count_trans_occur_Fila_S'Partida_Carro_1.log\", sep=r'\\s+')+TIME_OUT_CAR\n",
    "sul_data_onibus_in = pd.read_csv(\"Count_trans_occur_Fila_S'trans_monitor_onibus_1.log\", sep=r'\\s+')\n",
    "sul_data_onibus_out = pd.read_csv(\"Count_trans_occur_Fila_S'Partida_Oni_1.log\", sep=r'\\s+')+TIME_OUT_BUS\n",
    "\n",
    "\n",
    "dif_carro_s = sul_data_carro_out['time'] - sul_data_carro_in['time'][:sul_data_carro_out['time'].size]\n",
    "dif_onibus_s = sul_data_onibus_out['time'] - sul_data_onibus_in['time'][:sul_data_onibus_out['time'].size]\n",
    "sul_tmp_med_carro = np.mean(dif_carro_s)\n",
    "sul_tmp_med_onibus = np.mean(dif_onibus_s)\n",
    "\n",
    "\n",
    "# tempo médio no oeste \n",
    "\n",
    "oeste_data_carro_in = pd.read_csv(\"Count_trans_occur_Fila_O'trans_monitor_carro_1.log\", sep=r'\\s+')\n",
    "oeste_data_carro_out = pd.read_csv(\"Count_trans_occur_Fila_O'Partida_Carro_1.log\", sep=r'\\s+')+TIME_OUT_CAR\n",
    "oeste_data_onibus_in = pd.read_csv(\"Count_trans_occur_Fila_O'trans_monitor_onibus_1.log\", sep=r'\\s+')\n",
    "oeste_data_onibus_out = pd.read_csv(\"Count_trans_occur_Fila_O'Partida_Oni_1.log\", sep=r'\\s+')+TIME_OUT_BUS\n",
    "\n",
    "\n",
    "dif_carro_o = oeste_data_carro_out['time'] - oeste_data_carro_in['time'][:oeste_data_carro_out['time'].size]\n",
    "dif_onibus_o = oeste_data_onibus_out['time'] - oeste_data_onibus_in['time'][:oeste_data_onibus_out['time'].size]\n",
    "\n",
    "oeste_tmp_med_carro = np.mean(dif_carro_o)\n",
    "oeste_tmp_med_onibus = np.mean(dif_onibus_o)\n",
    "\n",
    "# tempo médio no leste \n",
    "\n",
    "leste_data_carro_in = pd.read_csv(\"Count_trans_occur_Fila_L'trans_monitor_carro_1.log\", sep=r'\\s+')\n",
    "leste_data_carro_out = pd.read_csv(\"Count_trans_occur_Fila_L'Partida_Carro_1.log\", sep=r'\\s+')+TIME_OUT_CAR\n",
    "leste_data_onibus_in = pd.read_csv(\"Count_trans_occur_Fila_L'trans_monitor_onibus_1.log\", sep=r'\\s+')\n",
    "leste_data_onibus_out = pd.read_csv(\"Count_trans_occur_Fila_L'Partida_Oni_1.log\", sep=r'\\s+')+TIME_OUT_BUS\n",
    "\n",
    "dif_carro_l = leste_data_carro_out['time'] - leste_data_carro_in['time'][:leste_data_carro_out['time'].size]\n",
    "dif_onibus_l = leste_data_onibus_out['time'] - leste_data_onibus_in['time'][:leste_data_onibus_out['time'].size]\n",
    "\n",
    "leste_tmp_med_carro = np.mean(dif_carro_l)\n",
    "leste_tmp_med_onibus = np.mean(dif_onibus_l)\n"
   ]
  },
  {
   "cell_type": "code",
   "execution_count": 589,
   "id": "9e196905",
   "metadata": {},
   "outputs": [
    {
     "data": {
      "text/plain": [
       "(5, 5, 5, 5)"
      ]
     },
     "execution_count": 589,
     "metadata": {},
     "output_type": "execute_result"
    }
   ],
   "source": [
    "min(dif_onibus_n),min(dif_onibus_s),min(dif_onibus_l),min(dif_onibus_o)"
   ]
  },
  {
   "cell_type": "code",
   "execution_count": 590,
   "id": "f1c7b16b",
   "metadata": {},
   "outputs": [
    {
     "data": {
      "text/plain": [
       "(256, 205, 134, 162)"
      ]
     },
     "execution_count": 590,
     "metadata": {},
     "output_type": "execute_result"
    }
   ],
   "source": [
    "max(dif_onibus_n),max(dif_onibus_s),max(dif_onibus_l),max(dif_onibus_o)"
   ]
  },
  {
   "cell_type": "code",
   "execution_count": 591,
   "id": "07f36f02",
   "metadata": {},
   "outputs": [
    {
     "name": "stdout",
     "output_type": "stream",
     "text": [
      "Quantidade de Onibus/Carros >>NORTE<<:\n",
      "Carros->  159\n",
      "Onibus->  61\n",
      "Tempo Médio de Espera >>NORTE<<:\n",
      "carro-> 116.70440251572327  s\n",
      "onibus-> 84.45901639344262  s\n"
     ]
    }
   ],
   "source": [
    "print(\"Quantidade de Onibus/Carros >>NORTE<<:\")\n",
    "print(\"Carros-> \", norte_data_carro_out['time'].size)\n",
    "print(\"Onibus-> \", norte_data_onibus_out['time'].size)\n",
    "print(\"Tempo Médio de Espera >>NORTE<<:\")\n",
    "print(\"carro->\", norte_tmp_med_carro, \" s\")\n",
    "print(\"onibus->\", norte_tmp_med_onibus, \" s\")"
   ]
  },
  {
   "cell_type": "code",
   "execution_count": 592,
   "id": "6a7770e1",
   "metadata": {},
   "outputs": [
    {
     "name": "stdout",
     "output_type": "stream",
     "text": [
      "Quantidade de Onibus/Carros >>SUL<<:\n",
      "Carros->  174\n",
      "Onibus->  66\n",
      "Tempo Médio de Espera >>SUL<<:\n",
      "carro-> 110.82758620689656  s\n",
      "onibus-> 77.57575757575758  s\n"
     ]
    }
   ],
   "source": [
    "print(\"Quantidade de Onibus/Carros >>SUL<<:\")\n",
    "print(\"Carros-> \", sul_data_carro_out['time'].size)\n",
    "print(\"Onibus-> \", sul_data_onibus_out['time'].size)\n",
    "print(\"Tempo Médio de Espera >>SUL<<:\")\n",
    "print(\"carro->\", sul_tmp_med_carro, \" s\")\n",
    "print(\"onibus->\", sul_tmp_med_onibus, \" s\")"
   ]
  },
  {
   "cell_type": "code",
   "execution_count": 593,
   "id": "223cb60c",
   "metadata": {},
   "outputs": [
    {
     "name": "stdout",
     "output_type": "stream",
     "text": [
      "Quantidade de Onibus/Carros >>OESTE<<:\n",
      "Carros->  152\n",
      "Onibus->  60\n",
      "Tempo Médio de Espera >>OESTE<<:\n",
      "carro-> 63.5  s\n",
      "onibus-> 70.35  s\n"
     ]
    }
   ],
   "source": [
    "print(\"Quantidade de Onibus/Carros >>OESTE<<:\")\n",
    "print(\"Carros-> \", oeste_data_carro_out['time'].size)\n",
    "print(\"Onibus-> \", oeste_data_onibus_out['time'].size)\n",
    "print(\"Tempo Médio de Espera >>OESTE<<:\")\n",
    "print(\"carro->\", oeste_tmp_med_carro, \" s\")\n",
    "print(\"onibus->\", oeste_tmp_med_onibus, \" s\")"
   ]
  },
  {
   "cell_type": "code",
   "execution_count": 594,
   "id": "52a51b64",
   "metadata": {},
   "outputs": [
    {
     "name": "stdout",
     "output_type": "stream",
     "text": [
      "Quantidade de Onibus/Carros >>LESTE<<:\n",
      "Carros->  167\n",
      "Onibus->  49\n",
      "Tempo Médio de Espera >>LESTE<<:\n",
      "carro-> 91.91616766467065  s\n",
      "onibus-> 54.91836734693877  s\n"
     ]
    }
   ],
   "source": [
    "print(\"Quantidade de Onibus/Carros >>LESTE<<:\")\n",
    "print(\"Carros-> \", leste_data_carro_out['time'].size)\n",
    "print(\"Onibus-> \", leste_data_onibus_out['time'].size)\n",
    "print(\"Tempo Médio de Espera >>LESTE<<:\")\n",
    "print(\"carro->\", leste_tmp_med_carro, \" s\")\n",
    "print(\"onibus->\", leste_tmp_med_onibus, \" s\")"
   ]
  }
 ],
 "metadata": {
  "kernelspec": {
   "display_name": "plaquinha",
   "language": "python",
   "name": "python3"
  },
  "language_info": {
   "codemirror_mode": {
    "name": "ipython",
    "version": 3
   },
   "file_extension": ".py",
   "mimetype": "text/x-python",
   "name": "python",
   "nbconvert_exporter": "python",
   "pygments_lexer": "ipython3",
   "version": "3.13.7"
  }
 },
 "nbformat": 4,
 "nbformat_minor": 5
}

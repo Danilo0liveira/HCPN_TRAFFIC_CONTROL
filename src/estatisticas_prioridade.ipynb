{
 "cells": [
  {
   "cell_type": "code",
   "execution_count": 579,
   "id": "a41d90d5",
   "metadata": {},
   "outputs": [],
   "source": [
    "import pandas as pd\n",
    "import numpy as np\n",
    "import matplotlib.pyplot as plt"
   ]
  },
  {
   "cell_type": "markdown",
   "id": "05f47945",
   "metadata": {},
   "source": [
    "# TEMPO MÉDIO DE ESPERA SEMÁFORO"
   ]
  },
  {
   "cell_type": "code",
   "execution_count": 580,
   "id": "fced340a",
   "metadata": {},
   "outputs": [],
   "source": [
    "\n",
    "TIME_OUT_CAR = 2\n",
    "TIME_OUT_BUS = 5\n",
    "\n",
    "# tempo médio no norte\n",
    "\n",
    "norte_data_carro_in = pd.read_csv(\"Count_trans_occur_Fila_N'trans_monitor_carro_1.log\", sep=r'\\s+')\n",
    "norte_data_carro_out = pd.read_csv(\"Count_trans_occur_Fila_N'Partida_Carro_1.log\", sep=r'\\s+')+TIME_OUT_CAR\n",
    "norte_data_onibus_in = pd.read_csv(\"Count_trans_occur_Fila_N'trans_monitor_onibus_1.log\", sep=r'\\s+')\n",
    "norte_data_onibus_out = pd.read_csv(\"Count_trans_occur_Fila_N'Partida_Oni_1.log\", sep=r'\\s+')+TIME_OUT_BUS\n",
    "\n",
    "dif_carro_n = norte_data_carro_out['time'] - norte_data_carro_in['time'][:norte_data_carro_out['time'].size]\n",
    "dif_onibus_n = norte_data_onibus_out['time'] - norte_data_onibus_in['time'][:norte_data_onibus_out['time'].size]\n",
    "norte_tmp_med_carro = np.mean(dif_carro_n)\n",
    "norte_tmp_med_onibus = np.mean(dif_onibus_n)\n",
    "\n",
    "# tempo médio no sul \n",
    "\n",
    "sul_data_carro_in = pd.read_csv(\"Count_trans_occur_Fila_S'trans_monitor_carro_1.log\", sep=r'\\s+')\n",
    "sul_data_carro_out = pd.read_csv(\"Count_trans_occur_Fila_S'Partida_Carro_1.log\", sep=r'\\s+')+TIME_OUT_CAR\n",
    "sul_data_onibus_in = pd.read_csv(\"Count_trans_occur_Fila_S'trans_monitor_onibus_1.log\", sep=r'\\s+')\n",
    "sul_data_onibus_out = pd.read_csv(\"Count_trans_occur_Fila_S'Partida_Oni_1.log\", sep=r'\\s+')+TIME_OUT_BUS\n",
    "\n",
    "\n",
    "dif_carro_s = sul_data_carro_out['time'] - sul_data_carro_in['time'][:sul_data_carro_out['time'].size]\n",
    "dif_onibus_s = sul_data_onibus_out['time'] - sul_data_onibus_in['time'][:sul_data_onibus_out['time'].size]\n",
    "sul_tmp_med_carro = np.mean(dif_carro_s)\n",
    "sul_tmp_med_onibus = np.mean(dif_onibus_s)\n",
    "\n",
    "\n",
    "# tempo médio no oeste \n",
    "\n",
    "oeste_data_carro_in = pd.read_csv(\"Count_trans_occur_Fila_O'trans_monitor_carro_1.log\", sep=r'\\s+')\n",
    "oeste_data_carro_out = pd.read_csv(\"Count_trans_occur_Fila_O'Partida_Carro_1.log\", sep=r'\\s+')+TIME_OUT_CAR\n",
    "oeste_data_onibus_in = pd.read_csv(\"Count_trans_occur_Fila_O'trans_monitor_onibus_1.log\", sep=r'\\s+')\n",
    "oeste_data_onibus_out = pd.read_csv(\"Count_trans_occur_Fila_O'Partida_Oni_1.log\", sep=r'\\s+')+TIME_OUT_BUS\n",
    "\n",
    "\n",
    "dif_carro_o = oeste_data_carro_out['time'] - oeste_data_carro_in['time'][:oeste_data_carro_out['time'].size]\n",
    "dif_onibus_o = oeste_data_onibus_out['time'] - oeste_data_onibus_in['time'][:oeste_data_onibus_out['time'].size]\n",
    "\n",
    "oeste_tmp_med_carro = np.mean(dif_carro_o)\n",
    "oeste_tmp_med_onibus = np.mean(dif_onibus_o)\n",
    "\n",
    "# tempo médio no leste \n",
    "\n",
    "leste_data_carro_in = pd.read_csv(\"Count_trans_occur_Fila_L'trans_monitor_carro_1.log\", sep=r'\\s+')\n",
    "leste_data_carro_out = pd.read_csv(\"Count_trans_occur_Fila_L'Partida_Carro_1.log\", sep=r'\\s+')+TIME_OUT_CAR\n",
    "leste_data_onibus_in = pd.read_csv(\"Count_trans_occur_Fila_L'trans_monitor_onibus_1.log\", sep=r'\\s+')\n",
    "leste_data_onibus_out = pd.read_csv(\"Count_trans_occur_Fila_L'Partida_Oni_1.log\", sep=r'\\s+')+TIME_OUT_BUS\n",
    "\n",
    "dif_carro_l = leste_data_carro_out['time'] - leste_data_carro_in['time'][:leste_data_carro_out['time'].size]\n",
    "dif_onibus_l = leste_data_onibus_out['time'] - leste_data_onibus_in['time'][:leste_data_onibus_out['time'].size]\n",
    "\n",
    "leste_tmp_med_carro = np.mean(dif_carro_l)\n",
    "leste_tmp_med_onibus = np.mean(dif_onibus_l)\n"
   ]
  },
  {
   "cell_type": "code",
   "execution_count": 581,
   "id": "9e196905",
   "metadata": {},
   "outputs": [
    {
     "data": {
      "text/plain": [
       "(5, 5, 5, 5)"
      ]
     },
     "execution_count": 581,
     "metadata": {},
     "output_type": "execute_result"
    }
   ],
   "source": [
    "min(dif_onibus_n),min(dif_onibus_s),min(dif_onibus_l),min(dif_onibus_o)"
   ]
  },
  {
   "cell_type": "code",
   "execution_count": 582,
   "id": "f1c7b16b",
   "metadata": {},
   "outputs": [
    {
     "data": {
      "text/plain": [
       "(253, 180, 201, 171)"
      ]
     },
     "execution_count": 582,
     "metadata": {},
     "output_type": "execute_result"
    }
   ],
   "source": [
    "max(dif_onibus_n),max(dif_onibus_s),max(dif_onibus_l),max(dif_onibus_o)"
   ]
  },
  {
   "cell_type": "code",
   "execution_count": 583,
   "id": "07f36f02",
   "metadata": {},
   "outputs": [
    {
     "name": "stdout",
     "output_type": "stream",
     "text": [
      "Quantidade de Onibus/Carros >>NORTE<<:\n",
      "Carros->  153\n",
      "Onibus->  58\n",
      "Tempo Médio de Espera >>NORTE<<:\n",
      "carro-> 92.18300653594771  s\n",
      "onibus-> 106.86206896551724  s\n"
     ]
    }
   ],
   "source": [
    "print(\"Quantidade de Onibus/Carros >>NORTE<<:\")\n",
    "print(\"Carros-> \", norte_data_carro_out['time'].size)\n",
    "print(\"Onibus-> \", norte_data_onibus_out['time'].size)\n",
    "print(\"Tempo Médio de Espera >>NORTE<<:\")\n",
    "print(\"carro->\", norte_tmp_med_carro, \" s\")\n",
    "print(\"onibus->\", norte_tmp_med_onibus, \" s\")"
   ]
  },
  {
   "cell_type": "code",
   "execution_count": 584,
   "id": "6a7770e1",
   "metadata": {},
   "outputs": [
    {
     "name": "stdout",
     "output_type": "stream",
     "text": [
      "Quantidade de Onibus/Carros >>SUL<<:\n",
      "Carros->  140\n",
      "Onibus->  44\n",
      "Tempo Médio de Espera >>SUL<<:\n",
      "carro-> 83.52857142857142  s\n",
      "onibus-> 78.63636363636364  s\n"
     ]
    }
   ],
   "source": [
    "print(\"Quantidade de Onibus/Carros >>SUL<<:\")\n",
    "print(\"Carros-> \", sul_data_carro_out['time'].size)\n",
    "print(\"Onibus-> \", sul_data_onibus_out['time'].size)\n",
    "print(\"Tempo Médio de Espera >>SUL<<:\")\n",
    "print(\"carro->\", sul_tmp_med_carro, \" s\")\n",
    "print(\"onibus->\", sul_tmp_med_onibus, \" s\")"
   ]
  },
  {
   "cell_type": "code",
   "execution_count": 585,
   "id": "223cb60c",
   "metadata": {},
   "outputs": [
    {
     "name": "stdout",
     "output_type": "stream",
     "text": [
      "Quantidade de Onibus/Carros >>OESTE<<:\n",
      "Carros->  167\n",
      "Onibus->  45\n",
      "Tempo Médio de Espera >>OESTE<<:\n",
      "carro-> 91.50299401197604  s\n",
      "onibus-> 84.4  s\n"
     ]
    }
   ],
   "source": [
    "print(\"Quantidade de Onibus/Carros >>OESTE<<:\")\n",
    "print(\"Carros-> \", oeste_data_carro_out['time'].size)\n",
    "print(\"Onibus-> \", oeste_data_onibus_out['time'].size)\n",
    "print(\"Tempo Médio de Espera >>OESTE<<:\")\n",
    "print(\"carro->\", oeste_tmp_med_carro, \" s\")\n",
    "print(\"onibus->\", oeste_tmp_med_onibus, \" s\")"
   ]
  },
  {
   "cell_type": "code",
   "execution_count": 586,
   "id": "52a51b64",
   "metadata": {},
   "outputs": [
    {
     "name": "stdout",
     "output_type": "stream",
     "text": [
      "Quantidade de Onibus/Carros >>LESTE<<:\n",
      "Carros->  159\n",
      "Onibus->  59\n",
      "Tempo Médio de Espera >>LESTE<<:\n",
      "carro-> 92.28301886792453  s\n",
      "onibus-> 82.94915254237289  s\n"
     ]
    }
   ],
   "source": [
    "print(\"Quantidade de Onibus/Carros >>LESTE<<:\")\n",
    "print(\"Carros-> \", leste_data_carro_out['time'].size)\n",
    "print(\"Onibus-> \", leste_data_onibus_out['time'].size)\n",
    "print(\"Tempo Médio de Espera >>LESTE<<:\")\n",
    "print(\"carro->\", leste_tmp_med_carro, \" s\")\n",
    "print(\"onibus->\", leste_tmp_med_onibus, \" s\")"
   ]
  }
 ],
 "metadata": {
  "kernelspec": {
   "display_name": "plaquinha",
   "language": "python",
   "name": "python3"
  },
  "language_info": {
   "codemirror_mode": {
    "name": "ipython",
    "version": 3
   },
   "file_extension": ".py",
   "mimetype": "text/x-python",
   "name": "python",
   "nbconvert_exporter": "python",
   "pygments_lexer": "ipython3",
   "version": "3.13.7"
  }
 },
 "nbformat": 4,
 "nbformat_minor": 5
}
